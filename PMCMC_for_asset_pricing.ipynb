{
 "cells": [
  {
   "cell_type": "markdown",
   "metadata": {},
   "source": [
    "# Fast Filtering with Large Option Panels: Implications for Asset Pricing"
   ]
  },
  {
   "cell_type": "markdown",
   "metadata": {},
   "source": [
    "As we don't have access to the data used in the paper, we will simulate data from the option pricing models whown in the figures (page 59 environ) and then estimate the model given the artificial data."
   ]
  },
  {
   "cell_type": "code",
   "execution_count": null,
   "metadata": {},
   "outputs": [],
   "source": [
    "import matplotlib.pyplot as plt\n",
    "\n",
    "import simulation"
   ]
  },
  {
   "cell_type": "markdown",
   "metadata": {},
   "source": [
    "## 1. Simulating data"
   ]
  },
  {
   "cell_type": "markdown",
   "metadata": {},
   "source": [
    "We will first simulate the data from the simple Stochastic Volatility model of Heston. The model is given by the following SDEs:\n",
    "\n",
    "$$\n",
    "\\begin{aligned}\n",
    "dS_t &= \\mu S_t dt + \\sqrt{V_t} S_t dW_t^S \\\\\n",
    "dV_t &= \\kappa (\\theta - V_t) dt + \\sigma \\sqrt{V_t} dW_t^v\n",
    "\\end{aligned}\n",
    "$$\n",
    "\n",
    "where $W_t^S$ and $W_t^v$ are two correlated Brownian motions with correlation $\\rho$. We will simulate the data for the following parameters:"
   ]
  },
  {
   "cell_type": "code",
   "execution_count": null,
   "metadata": {},
   "outputs": [],
   "source": [
    "# Simulate\n",
    "time, S, V = simulate_heston(S0, V0, mu, kappa, theta, sigma, rho, T, N, dt)\n",
    "\n",
    "# Plot results\n",
    "plt.figure(figsize=(12, 6))\n",
    "plt.subplot(2, 1, 1)\n",
    "plt.plot(time, S, label=\"Stock Price\")\n",
    "plt.title(\"Heston Model Simulation\")\n",
    "plt.xlabel(\"Time\")\n",
    "plt.ylabel(\"Stock Price\")\n",
    "plt.grid()\n",
    "plt.legend()\n",
    "\n",
    "plt.subplot(2, 1, 2)\n",
    "plt.plot(time, V, label=\"Variance\", color=\"orange\")\n",
    "plt.xlabel(\"Time\")\n",
    "plt.ylabel(\"Variance\")\n",
    "plt.grid()\n",
    "plt.legend()\n",
    "\n",
    "plt.tight_layout()\n",
    "plt.show()"
   ]
  }
 ],
 "metadata": {
  "language_info": {
   "name": "python"
  }
 },
 "nbformat": 4,
 "nbformat_minor": 2
}
