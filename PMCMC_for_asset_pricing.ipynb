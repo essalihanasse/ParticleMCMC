{
 "cells": [
  {
   "cell_type": "markdown",
   "metadata": {},
   "source": [
    "# Fast Filtering with Large Option Panels: Implications for Asset Pricing"
   ]
  },
  {
   "cell_type": "markdown",
   "metadata": {},
   "source": [
    "As we don't have access to the data used in the paper, we will simulate data from the option pricing models whown in the figures (page 59 environ) and then estimate the model given the artificial data."
   ]
  },
  {
   "cell_type": "code",
   "execution_count": null,
   "metadata": {},
   "outputs": [],
   "source": [
    "import matplotlib.pyplot as plt\n",
    "\n",
    "import simulation"
   ]
  },
  {
   "cell_type": "markdown",
   "metadata": {},
   "source": [
    "## 1. Simulating data"
   ]
  },
  {
   "cell_type": "markdown",
   "metadata": {},
   "source": [
    "We will first simulate the data from the simple Stochastic Volatility model of Heston. The model is given by the following SDEs:\n",
    "\n",
    "$$\n",
    "\\begin{aligned}\n",
    "dS_t &= \\mu S_t dt + \\sqrt{V_t} S_t dW_t^S \\\\\n",
    "dV_t &= \\kappa (\\theta - V_t) dt + \\sigma \\sqrt{V_t} dW_t^v\n",
    "\\end{aligned}\n",
    "$$\n",
    "\n",
    "where $W_t^S$ and $W_t^v$ are two correlated Brownian motions with correlation $\\rho$. We will simulate the data for the following parameters:"
   ]
  },
  {
   "cell_type": "code",
   "execution_count": null,
   "metadata": {},
   "outputs": [],
   "source": [
    "# Simulate\n",
    "time, S, V = simulate_heston(S0, V0, mu, kappa, theta, sigma, rho, T, N, dt)\n",
    "\n",
    "# Plot results\n",
    "plt.figure(figsize=(12, 6))\n",
    "plt.subplot(2, 1, 1)\n",
    "plt.plot(time, S, label=\"Stock Price\")\n",
    "plt.title(\"Heston Model Simulation\")\n",
    "plt.xlabel(\"Time\")\n",
    "plt.ylabel(\"Stock Price\")\n",
    "plt.grid()\n",
    "plt.legend()\n",
    "\n",
    "plt.subplot(2, 1, 2)\n",
    "plt.plot(time, V, label=\"Variance\", color=\"orange\")\n",
    "plt.xlabel(\"Time\")\n",
    "plt.ylabel(\"Variance\")\n",
    "plt.grid()\n",
    "plt.legend()\n",
    "\n",
    "plt.tight_layout()\n",
    "plt.show()"
   ]
  },
  {
   "cell_type": "markdown",
   "metadata": {},
   "source": [
    "## 2. Boostrap Filter (Feynman-Kac) for the model under consideration"
   ]
  },
  {
   "cell_type": "markdown",
   "metadata": {},
   "source": [
    "In this section, we will implement the boostrap filter for the model under consideration. The boostrap filter is a Monte Carlo method that allows to estimate the filtering distribution of the state variables given the observations. The algorithm is as follows:\n",
    "\n",
    "1. Initialize the particles $x_0^{(i)}$ for $i=1,\\ldots,N$ from the prior distribution $p(x_0)$.\n",
    "\n",
    "2. For $t=1,\\ldots,T$:\n",
    "    1. For $i=1,\\ldots,N$:\n",
    "        1. Sample $x_t^{(i)}$ from the proposal distribution $q(x_t|x_{t-1}^{(i)},y_t)$.\n",
    "        2. Compute the importance weight $w_t^{(i)} = \\frac{p(y_t|x_t^{(i)}) p(x_t^{(i)}|x_{t-1}^{(i)})}{q(x_t^{(i)}|x_{t-1}^{(i)},y_t)}$.\n",
    "    2. Normalize the weights $w_t^{(i)}$.\n",
    "    3. Resample the particles $x_t^{(i)}$ with replacement according to the weights $w_t^{(i)}$.\n",
    "\n",
    "3. Compute the estimate of the filtering distribution as $\\hat{p}(x_t|y_{1:t}) = \\sum_{i=1}^N w_t^{(i)} \\delta_{x_t^{(i)}}(x_t)$.\n",
    "\n",
    "We will implement the boostrap filter for the model under consideration."
   ]
  }
 ],
 "metadata": {
  "language_info": {
   "name": "python"
  }
 },
 "nbformat": 4,
 "nbformat_minor": 2
}
